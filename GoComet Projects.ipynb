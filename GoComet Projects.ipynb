{
 "cells": [
  {
   "cell_type": "code",
   "execution_count": 1,
   "id": "2e75b0bc",
   "metadata": {},
   "outputs": [],
   "source": [
    "from selenium import webdriver\n",
    "# from webdriver_manager.chrome import ChromeDriverManager\n",
    "from selenium.webdriver.chrome.service import Service\n",
    "from selenium.webdriver.common.by import By\n",
    "from selenium.webdriver.support.ui import WebDriverWait\n",
    "from selenium.webdriver.support import expected_conditions as EC\n",
    "from selenium.webdriver.support.select import Select\n",
    "from selenium.common.exceptions import TimeoutException\n",
    "from selenium.common.exceptions import NoSuchElementException\n",
    "import time\n",
    "\n",
    "s=Service(\"\")\n",
    "driver = webdriver.Chrome(executable_path = '/Users/hiesenberg/Downloads/chromedriver 2')\n"
   ]
  },
  {
   "cell_type": "markdown",
   "id": "93477be9",
   "metadata": {},
   "source": [
    "# For amazon"
   ]
  },
  {
   "cell_type": "code",
   "execution_count": 2,
   "id": "c14897e8",
   "metadata": {},
   "outputs": [],
   "source": [
    "driver.get(\"https://www.amazon.in/\")\n",
    "asn = driver.find_element_by_xpath('//*[@id=\"twotabsearchtextbox\"]')"
   ]
  },
  {
   "cell_type": "code",
   "execution_count": 3,
   "id": "bc6ea2b7",
   "metadata": {},
   "outputs": [
    {
     "name": "stdout",
     "output_type": "stream",
     "text": [
      "mobile\n"
     ]
    }
   ],
   "source": [
    "give_input = input()\n",
    "asn.send_keys(give_input)"
   ]
  },
  {
   "cell_type": "code",
   "execution_count": 4,
   "id": "1543535a",
   "metadata": {},
   "outputs": [],
   "source": [
    "asn.submit()"
   ]
  },
  {
   "cell_type": "code",
   "execution_count": 5,
   "id": "6250dc5f",
   "metadata": {},
   "outputs": [],
   "source": [
    "price = []\n",
    "name =[]\n",
    "model = []\n",
    "Sourcess = []\n",
    "for i in range(5):\n",
    "    my = 3+i\n",
    "    if my<=4:\n",
    "        answerr = str(my)\n",
    "        xpath  = '//*[@id=\"search\"]/div[1]/div[1]/div/span[3]/div[2]/div['+answerr+']/div/div/div/div/div/div/div/div[2]/div/div/div[1]/h2/a/span'\n",
    "    else:\n",
    "        answerr = str(my)\n",
    "        xpath = '//*[@id=\"search\"]/div[1]/div[1]/div/span[3]/div[2]/div['+answerr+']/div/div/div/div/div/div[2]/div/div/div[1]/h2/a/span'\n",
    "    text = driver.find_element_by_xpath(xpath)\n",
    "    name.append(text.get_attribute('innerHTML'))\n",
    "    Sourcess.append(\"Amazon\")\n",
    "    text.click()\n",
    "    curr = driver.window_handles[1]\n",
    "    driver.switch_to.window(curr)\n",
    "    try:\n",
    "        pricee = driver.find_element_by_xpath('//*[@id=\"corePrice_desktop\"]/div/table/tbody/tr[2]/td[2]/span[1]/span[2]')\n",
    "        price.append(pricee.get_attribute('innerHTML'))\n",
    "    except:\n",
    "        price.append(\"-\")\n",
    "    try:\n",
    "        model_number = driver.find_element_by_xpath('//*[@id=\"productOverview_feature_div\"]/div/table/tbody/tr[4]/td[2]/span')\n",
    "        model.append(model_number.get_attribute('innerHTML'))\n",
    "    except:\n",
    "        model.append(\"-\")\n",
    "    driver.close()\n",
    "    curr = driver.window_handles[0]\n",
    "    driver.switch_to.window(curr)"
   ]
  },
  {
   "cell_type": "markdown",
   "id": "70478b96",
   "metadata": {},
   "source": [
    "# For Flipkart"
   ]
  },
  {
   "cell_type": "code",
   "execution_count": 6,
   "id": "598c4c3d",
   "metadata": {},
   "outputs": [],
   "source": [
    "from selenium import webdriver\n",
    "# from webdriver_manager.chrome import ChromeDriverManager\n",
    "from selenium.webdriver.chrome.service import Service\n",
    "from selenium.webdriver.common.by import By\n",
    "from selenium.webdriver.support.ui import WebDriverWait\n",
    "from selenium.webdriver.support import expected_conditions as EC\n",
    "from selenium.webdriver.support.select import Select\n",
    "from selenium.common.exceptions import TimeoutException\n",
    "from selenium.common.exceptions import NoSuchElementException\n",
    "import time\n",
    "\n",
    "s=Service(\"\")\n",
    "driver = webdriver.Chrome(executable_path = '/Users/hiesenberg/Downloads/chromedriver 2')\n",
    "driver.execute_script('window.open(\"https:/www.flipkart.com/\");')"
   ]
  },
  {
   "cell_type": "code",
   "execution_count": 7,
   "id": "96d5e3e6",
   "metadata": {},
   "outputs": [],
   "source": [
    "curr = driver.window_handles[1]\n",
    "driver.switch_to.window(curr)"
   ]
  },
  {
   "cell_type": "code",
   "execution_count": 8,
   "id": "25cfa984",
   "metadata": {},
   "outputs": [
    {
     "name": "stdout",
     "output_type": "stream",
     "text": [
      "phones\n"
     ]
    }
   ],
   "source": [
    "search = driver.find_element_by_xpath('//*[@id=\"container\"]/div/div[1]/div[1]/div[2]/div[2]/form/div/div/input')\n",
    "provided_input = input()\n",
    "search.send_keys(provided_input)\n",
    "search.submit()"
   ]
  },
  {
   "cell_type": "code",
   "execution_count": 9,
   "id": "c20e242f",
   "metadata": {},
   "outputs": [],
   "source": [
    "\n",
    "popup = WebDriverWait(driver, 10).until(EC.presence_of_element_located((By.XPATH, '/html/body/div[2]/div/div/button')))\n",
    "popup.click()\n",
    "\n",
    "for i in range(5):\n",
    "    my = 2+i\n",
    "    \n",
    "    answerr = str(my)\n",
    "    try:\n",
    "        name_of_product = driver.find_element_by_xpath('//*[@id=\"container\"]/div/div[3]/div[1]/div[2]/div['+answerr+']/div/div/div/a/div[2]/div[1]/div[1]')\n",
    "        name.append(name_of_product.get_attribute('innerHTML'))\n",
    "    except:\n",
    "        name.append(\"Unknown\")\n",
    "    \n",
    "    xpath = '//*[@id=\"container\"]/div/div[3]/div[1]/div[2]/div['+answerr+']/div/div/div/a'\n",
    "    element = WebDriverWait(driver, 10).until(EC.presence_of_element_located((By.XPATH, xpath)))\n",
    "    \n",
    "    element.click()\n",
    "    \n",
    "    Sourcess.append(\"Flipkart\")\n",
    "    \n",
    "    curr1 = driver.window_handles[-1]\n",
    "    \n",
    "    driver.switch_to.window(curr1)\n",
    "#     name_of_product = driver.find_element_by_xpath('//*[@id=\"container\"]/div/div[3]/div[1]/div[2]/div[2]/div/div[1]/h1/span')\n",
    "#     name.append(name_of_product.text)\n",
    "    try:\n",
    "        model_of_product = driver.find_element_by_xpath('//*[@id=\"container\"]/div/div[3]/div[1]/div[2]/div[8]/div[4]/div/div[2]/div[1]/div[1]/table/tbody/tr[2]/td[2]/ul/li')\n",
    "        model.append(model_of_product)\n",
    "    except:\n",
    "        model.append(\"-\")\n",
    "    try:\n",
    "        pricee = driver.find_element_by_xpath('//*[@id=\"container\"]/div/div[3]/div[1]/div[2]/div[3]/div/div[4]/div[1]/div/div[1]')                                    \n",
    "        price.append(pricee.get_attribute('innerHTML'))\n",
    "    except NoSuchElementException:\n",
    "        price.append(\"-\")\n",
    "    driver.close()\n",
    "    curr1 = driver.window_handles[1]\n",
    "    driver.switch_to.window(curr1)"
   ]
  },
  {
   "cell_type": "code",
   "execution_count": 10,
   "id": "a3130e4c",
   "metadata": {},
   "outputs": [],
   "source": [
    "import pandas as pd"
   ]
  },
  {
   "cell_type": "code",
   "execution_count": 11,
   "id": "b07d2162",
   "metadata": {},
   "outputs": [],
   "source": [
    "data = pd.DataFrame()\n",
    "data[\"name\"] = name\n",
    "data[\"price\"] = price\n",
    "data[\"Source\"] = Sourcess\n",
    "data[\"model\"] = model\n"
   ]
  },
  {
   "cell_type": "code",
   "execution_count": 12,
   "id": "277b7df9",
   "metadata": {},
   "outputs": [
    {
     "name": "stdout",
     "output_type": "stream",
     "text": [
      "Sales record successfully exported into Excel File\n"
     ]
    }
   ],
   "source": [
    "  \n",
    "# Specify the name of the excel file\n",
    "file_name = 'ProductSales_sheet.xlsx'\n",
    "  \n",
    "# saving the excelsheet\n",
    "data.to_excel(file_name)\n",
    "print('Sales record successfully exported into Excel File')"
   ]
  },
  {
   "cell_type": "code",
   "execution_count": null,
   "id": "c87bc70f",
   "metadata": {},
   "outputs": [],
   "source": []
  }
 ],
 "metadata": {
  "kernelspec": {
   "display_name": "Python 3 (ipykernel)",
   "language": "python",
   "name": "python3"
  },
  "language_info": {
   "codemirror_mode": {
    "name": "ipython",
    "version": 3
   },
   "file_extension": ".py",
   "mimetype": "text/x-python",
   "name": "python",
   "nbconvert_exporter": "python",
   "pygments_lexer": "ipython3",
   "version": "3.9.9"
  }
 },
 "nbformat": 4,
 "nbformat_minor": 5
}
